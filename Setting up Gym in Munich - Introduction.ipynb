{
    "nbformat_minor": 1, 
    "cells": [
        {
            "source": "# Own Capstone Project - Setting up Gym in Munich", 
            "cell_type": "markdown", 
            "metadata": {
                "collapsed": true
            }
        }, 
        {
            "source": "## Introduction\n\nThe purpose of this project is to find a suitable neighborhood for opening up a new gym in the city of Munich (M\u00fcnchen), Germany, which is also a city where I live. With 1.5 mil inhabitants, Munich is the 3rd largest city in Germany. It contains 25 neighbhorhoods (\"Stadtbezirke\" in German).  \n\nTo solve this problem, I will combine three different data sources:\n- the data from Foursquare API\n- demographical data \n- the average private property rent accross neighborhoods\n\nThe subject interested in this analysis would be a subject wanting to open up a gym. \n\n### Data sources and extraction\n\n#### Foursquare API\nI will carry out the data extraction and use the codes as shown in this course. Later on I will only filter out the gym venues to see how many there are in each neighborhood.\n\n#### Demographical Data\nThe demographical data is extracted from the statistical webiste of Munich city coucil.\n\nWebsite link: http://www.mstatistik-muenchen.de/indikatorenatlas/export/export.htm\n\nFile link: http://www.mstatistik-muenchen.de/indikatorenatlas/export/mv_export_csv_ab2010.xlsx\n\nIt contains all sorts of demographic data from the years 2010 - 2017. From here I also extract the neighborhood names.\nThe data is in German but I will rename (translate into English) the columns that I am going to keep. \n\n#### Rental Data\nI decided to add private property rental prices to my analysis as it reflects the wealth of the neighborhood. Areas with high rent will be more expensive to run a gym in but also have greater purchase power. Depending of what we want to offer, more expensive neigbhorhoods can afford luxury gyms with a variety of services, whether cheaper areas are more likely to accomodate a simple gym with lower membership fees. \n\nThe data is show in form of table on the website of a real estate agent:\nhttps://suedbayerische-immobilien.de/Mietpreise-Muenchen-Stadtteile\nI will extract the data using Beautiful Soup.\n\n### Computation and clustering\nI will first calculate the number of population (potential customers) per gym. As potential customer base I consider the population at the age of 15 - 65 years of age as this is the age group where most gym customers tend to fall into.\n\nThen I will obtain the percentage of children under the age of 6 out of total population. This is an important measure, if we consider opening up a gym with child minding facilities. That would entices more customers who have chidren as the sport in the gym will be more accessible to them.\n\nThe plan is to segment the neighburhoods into clusters using K-means clustering algorithm. The inputs will be the number of population per gym, percentage of small children and the wealthiness of the neighborhood. That way we will be able to see which areas most likely to welcome a new gym and what kind of gym that would be.", 
            "cell_type": "markdown", 
            "metadata": {}
        }, 
        {
            "execution_count": null, 
            "cell_type": "code", 
            "metadata": {}, 
            "outputs": [], 
            "source": ""
        }
    ], 
    "metadata": {
        "kernelspec": {
            "display_name": "Python 3.5", 
            "name": "python3", 
            "language": "python"
        }, 
        "language_info": {
            "mimetype": "text/x-python", 
            "nbconvert_exporter": "python", 
            "version": "3.5.5", 
            "name": "python", 
            "file_extension": ".py", 
            "pygments_lexer": "ipython3", 
            "codemirror_mode": {
                "version": 3, 
                "name": "ipython"
            }
        }
    }, 
    "nbformat": 4
}